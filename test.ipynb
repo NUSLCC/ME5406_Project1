{
 "cells": [
  {
   "cell_type": "code",
   "execution_count": null,
   "metadata": {},
   "outputs": [],
   "source": [
    "import gym\n",
    "import numpy as np\n",
    "\n",
    "env = gym.make('FrozenLake-v1', map_name='4x4')\n",
    "env.reset()\n",
    "output = env.render()\n",
    "\n",
    "n_states = env.observation_space.n\n",
    "n_actions = env.action_space.n\n",
    "\n",
    "# Initialize the action-value function Q\n",
    "Q = np.zeros((n_states, n_actions))\n",
    "\n",
    "# Initialize the policy\n",
    "policy = np.ones((n_states, n_actions)) / n_actions\n",
    "\n",
    "num_episode = 1\n",
    "gamma = 0.99\n",
    "epsilon = 0.1"
   ]
  },
  {
   "cell_type": "code",
   "execution_count": null,
   "metadata": {},
   "outputs": [],
   "source": [
    "def epsilon_greedy_policy(Q, state):\n",
    "    if np.random.random() < 0.1:\n",
    "        return np.random.randint(4)\n",
    "    else:\n",
    "        return np.argmax([Q[state][a] for a in range(4)])\n",
    "import numpy as np\n",
    "Q = np.zeros((16, 4))\n",
    "Q[0][0]=0.1\n",
    "Q[0][1]=0.2\n",
    "Q[0][2]=0.3\n",
    "Q[0][3]=0.4\n",
    "# res = epsilon_greedy_policy(Q,0)\n",
    "# res"
   ]
  },
  {
   "cell_type": "code",
   "execution_count": null,
   "metadata": {},
   "outputs": [],
   "source": [
    "\n",
    "Q_Table, Return, Visit_Num = {}, {}, {}\n",
    "\n",
    "for state in range(16):\n",
    "    for action in range(4):\n",
    "        Q_Table[(state,action)] = [0] * 4\n",
    "        Return[state] = [0] * 4\n",
    "        Visit_Num[state] = [0] * 4\n",
    "    \n",
    "Q_Table"
   ]
  }
 ],
 "metadata": {
  "kernelspec": {
   "display_name": "me5406-SAPP",
   "language": "python",
   "name": "python3"
  },
  "language_info": {
   "codemirror_mode": {
    "name": "ipython",
    "version": 3
   },
   "file_extension": ".py",
   "mimetype": "text/x-python",
   "name": "python",
   "nbconvert_exporter": "python",
   "pygments_lexer": "ipython3",
   "version": "3.6.10"
  },
  "orig_nbformat": 4,
  "vscode": {
   "interpreter": {
    "hash": "9cf82a2d665561cf54e1dc5167cd1001389ba612ccc13acb179cf9869708309a"
   }
  }
 },
 "nbformat": 4,
 "nbformat_minor": 2
}
